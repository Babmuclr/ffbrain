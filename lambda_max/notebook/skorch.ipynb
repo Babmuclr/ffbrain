{
 "cells": [
  {
   "cell_type": "markdown",
   "metadata": {},
   "source": [
    "# 基本的な操作の確認と予測\n",
    "\n",
    "操作の確認と、各種ベースラインとなる予測手法を動かしてみる。手を動かすことを目的とする。\n",
    "\n",
    "##　結果\n",
    "- 芳香環の有無や個数が最大吸収波長に高い相関を持つ　→ ベンゼン環の構造を学習させる方法が有用である可能性\n",
    "- モルガンフィンガープリントに、次元削減はあまり役に立たなそうである\n",
    "- ニューラルネットワークの学習を過学習などを起こさずに行うのが先決そう"
   ]
  },
  {
   "cell_type": "code",
   "execution_count": 1,
   "metadata": {},
   "outputs": [],
   "source": [
    "import sys\n",
    "import os\n",
    "import pickle\n",
    "import pandas as pd\n",
    "import numpy as np\n",
    "import matplotlib.pyplot as plt\n",
    "import japanize_matplotlib"
   ]
  },
  {
   "cell_type": "code",
   "execution_count": 2,
   "metadata": {},
   "outputs": [
    {
     "data": {
      "text/plain": [
       "'1.0.2'"
      ]
     },
     "execution_count": 2,
     "metadata": {},
     "output_type": "execute_result"
    }
   ],
   "source": [
    "import  sklearn\n",
    "sklearn.__version__"
   ]
  },
  {
   "cell_type": "code",
   "execution_count": 3,
   "metadata": {},
   "outputs": [
    {
     "name": "stderr",
     "output_type": "stream",
     "text": [
      "[16:52:29] Enabling RDKit 2019.09.3 jupyter extensions\n",
      "RDKit WARNING: [16:52:29] Enabling RDKit 2019.09.3 jupyter extensions\n"
     ]
    }
   ],
   "source": [
    "from rdkit import Chem\n",
    "from rdkit.Chem import AllChem"
   ]
  },
  {
   "cell_type": "code",
   "execution_count": 4,
   "metadata": {},
   "outputs": [],
   "source": [
    "from sklearn.linear_model import Ridge, LinearRegression\n",
    "from sklearn.ensemble import RandomForestRegressor\n",
    "from sklearn.metrics import mean_squared_error as mse\n",
    "from sklearn.model_selection import train_test_split\n",
    "from sklearn.decomposition import PCA\n",
    "from sklearn.neural_network import MLPRegressor"
   ]
  },
  {
   "cell_type": "code",
   "execution_count": 5,
   "metadata": {},
   "outputs": [
    {
     "data": {
      "text/html": [
       "<div>\n",
       "<style scoped>\n",
       "    .dataframe tbody tr th:only-of-type {\n",
       "        vertical-align: middle;\n",
       "    }\n",
       "\n",
       "    .dataframe tbody tr th {\n",
       "        vertical-align: top;\n",
       "    }\n",
       "\n",
       "    .dataframe thead th {\n",
       "        text-align: right;\n",
       "    }\n",
       "</style>\n",
       "<table border=\"1\" class=\"dataframe\">\n",
       "  <thead>\n",
       "    <tr style=\"text-align: right;\">\n",
       "      <th></th>\n",
       "      <th>SMILES</th>\n",
       "      <th>λmax</th>\n",
       "      <th>MaxEStateIndex</th>\n",
       "      <th>MinEStateIndex</th>\n",
       "      <th>MaxAbsEStateIndex</th>\n",
       "      <th>MinAbsEStateIndex</th>\n",
       "      <th>qed</th>\n",
       "      <th>MolWt</th>\n",
       "      <th>HeavyAtomMolWt</th>\n",
       "      <th>ExactMolWt</th>\n",
       "      <th>...</th>\n",
       "      <th>fr_sulfide</th>\n",
       "      <th>fr_sulfonamd</th>\n",
       "      <th>fr_sulfone</th>\n",
       "      <th>fr_term_acetylene</th>\n",
       "      <th>fr_tetrazole</th>\n",
       "      <th>fr_thiazole</th>\n",
       "      <th>fr_thiocyan</th>\n",
       "      <th>fr_thiophene</th>\n",
       "      <th>fr_unbrch_alkane</th>\n",
       "      <th>fr_urea</th>\n",
       "    </tr>\n",
       "  </thead>\n",
       "  <tbody>\n",
       "    <tr>\n",
       "      <th>0</th>\n",
       "      <td>c1cc2c(cn1)CCc1c[nH]nc1-2</td>\n",
       "      <td>263.321241</td>\n",
       "      <td>4.245324</td>\n",
       "      <td>1.073935</td>\n",
       "      <td>4.245324</td>\n",
       "      <td>1.073935</td>\n",
       "      <td>0.653297</td>\n",
       "      <td>171.203</td>\n",
       "      <td>162.131</td>\n",
       "      <td>171.079647</td>\n",
       "      <td>...</td>\n",
       "      <td>0.0</td>\n",
       "      <td>0.0</td>\n",
       "      <td>0.0</td>\n",
       "      <td>0.0</td>\n",
       "      <td>0.0</td>\n",
       "      <td>0.0</td>\n",
       "      <td>0.0</td>\n",
       "      <td>0.0</td>\n",
       "      <td>0.0</td>\n",
       "      <td>0.0</td>\n",
       "    </tr>\n",
       "    <tr>\n",
       "      <th>1</th>\n",
       "      <td>CONC(=O)c1n[nH]c2c1CCc1n[nH]cc1-2</td>\n",
       "      <td>243.668931</td>\n",
       "      <td>11.685965</td>\n",
       "      <td>-0.336162</td>\n",
       "      <td>11.685965</td>\n",
       "      <td>0.336162</td>\n",
       "      <td>0.645013</td>\n",
       "      <td>233.231</td>\n",
       "      <td>222.143</td>\n",
       "      <td>233.091275</td>\n",
       "      <td>...</td>\n",
       "      <td>0.0</td>\n",
       "      <td>0.0</td>\n",
       "      <td>0.0</td>\n",
       "      <td>0.0</td>\n",
       "      <td>0.0</td>\n",
       "      <td>0.0</td>\n",
       "      <td>0.0</td>\n",
       "      <td>0.0</td>\n",
       "      <td>0.0</td>\n",
       "      <td>0.0</td>\n",
       "    </tr>\n",
       "    <tr>\n",
       "      <th>2</th>\n",
       "      <td>O=C(O)c1[nH]nc2c1CCc1cnccc1-2</td>\n",
       "      <td>221.607321</td>\n",
       "      <td>10.962397</td>\n",
       "      <td>-0.952541</td>\n",
       "      <td>10.962397</td>\n",
       "      <td>0.205984</td>\n",
       "      <td>0.750319</td>\n",
       "      <td>215.212</td>\n",
       "      <td>206.140</td>\n",
       "      <td>215.069477</td>\n",
       "      <td>...</td>\n",
       "      <td>0.0</td>\n",
       "      <td>0.0</td>\n",
       "      <td>0.0</td>\n",
       "      <td>0.0</td>\n",
       "      <td>0.0</td>\n",
       "      <td>0.0</td>\n",
       "      <td>0.0</td>\n",
       "      <td>0.0</td>\n",
       "      <td>0.0</td>\n",
       "      <td>0.0</td>\n",
       "    </tr>\n",
       "    <tr>\n",
       "      <th>3</th>\n",
       "      <td>OCc1[nH]nc2c1CCc1cnccc1-2</td>\n",
       "      <td>221.009049</td>\n",
       "      <td>9.146874</td>\n",
       "      <td>0.030506</td>\n",
       "      <td>9.146874</td>\n",
       "      <td>0.030506</td>\n",
       "      <td>0.724880</td>\n",
       "      <td>201.229</td>\n",
       "      <td>190.141</td>\n",
       "      <td>201.090212</td>\n",
       "      <td>...</td>\n",
       "      <td>0.0</td>\n",
       "      <td>0.0</td>\n",
       "      <td>0.0</td>\n",
       "      <td>0.0</td>\n",
       "      <td>0.0</td>\n",
       "      <td>0.0</td>\n",
       "      <td>0.0</td>\n",
       "      <td>0.0</td>\n",
       "      <td>0.0</td>\n",
       "      <td>0.0</td>\n",
       "    </tr>\n",
       "    <tr>\n",
       "      <th>4</th>\n",
       "      <td>O=C1C=CC2=C3NNC(C(=O)O)=C3CC2=C1</td>\n",
       "      <td>468.999688</td>\n",
       "      <td>11.186579</td>\n",
       "      <td>-0.992914</td>\n",
       "      <td>11.186579</td>\n",
       "      <td>0.051150</td>\n",
       "      <td>0.581430</td>\n",
       "      <td>216.196</td>\n",
       "      <td>208.132</td>\n",
       "      <td>216.053492</td>\n",
       "      <td>...</td>\n",
       "      <td>0.0</td>\n",
       "      <td>0.0</td>\n",
       "      <td>0.0</td>\n",
       "      <td>0.0</td>\n",
       "      <td>0.0</td>\n",
       "      <td>0.0</td>\n",
       "      <td>0.0</td>\n",
       "      <td>0.0</td>\n",
       "      <td>0.0</td>\n",
       "      <td>0.0</td>\n",
       "    </tr>\n",
       "  </tbody>\n",
       "</table>\n",
       "<p>5 rows × 210 columns</p>\n",
       "</div>"
      ],
      "text/plain": [
       "                              SMILES        λmax  MaxEStateIndex  \\\n",
       "0          c1cc2c(cn1)CCc1c[nH]nc1-2  263.321241        4.245324   \n",
       "1  CONC(=O)c1n[nH]c2c1CCc1n[nH]cc1-2  243.668931       11.685965   \n",
       "2      O=C(O)c1[nH]nc2c1CCc1cnccc1-2  221.607321       10.962397   \n",
       "3          OCc1[nH]nc2c1CCc1cnccc1-2  221.009049        9.146874   \n",
       "4   O=C1C=CC2=C3NNC(C(=O)O)=C3CC2=C1  468.999688       11.186579   \n",
       "\n",
       "   MinEStateIndex  MaxAbsEStateIndex  MinAbsEStateIndex       qed    MolWt  \\\n",
       "0        1.073935           4.245324           1.073935  0.653297  171.203   \n",
       "1       -0.336162          11.685965           0.336162  0.645013  233.231   \n",
       "2       -0.952541          10.962397           0.205984  0.750319  215.212   \n",
       "3        0.030506           9.146874           0.030506  0.724880  201.229   \n",
       "4       -0.992914          11.186579           0.051150  0.581430  216.196   \n",
       "\n",
       "   HeavyAtomMolWt  ExactMolWt  ...  fr_sulfide  fr_sulfonamd  fr_sulfone  \\\n",
       "0         162.131  171.079647  ...         0.0           0.0         0.0   \n",
       "1         222.143  233.091275  ...         0.0           0.0         0.0   \n",
       "2         206.140  215.069477  ...         0.0           0.0         0.0   \n",
       "3         190.141  201.090212  ...         0.0           0.0         0.0   \n",
       "4         208.132  216.053492  ...         0.0           0.0         0.0   \n",
       "\n",
       "   fr_term_acetylene  fr_tetrazole  fr_thiazole  fr_thiocyan  fr_thiophene  \\\n",
       "0                0.0           0.0          0.0          0.0           0.0   \n",
       "1                0.0           0.0          0.0          0.0           0.0   \n",
       "2                0.0           0.0          0.0          0.0           0.0   \n",
       "3                0.0           0.0          0.0          0.0           0.0   \n",
       "4                0.0           0.0          0.0          0.0           0.0   \n",
       "\n",
       "   fr_unbrch_alkane  fr_urea  \n",
       "0               0.0      0.0  \n",
       "1               0.0      0.0  \n",
       "2               0.0      0.0  \n",
       "3               0.0      0.0  \n",
       "4               0.0      0.0  \n",
       "\n",
       "[5 rows x 210 columns]"
      ]
     },
     "execution_count": 5,
     "metadata": {},
     "output_type": "execute_result"
    }
   ],
   "source": [
    "dataset_df = pd.read_csv(\"../datasets/dataset.csv\")\n",
    "for col in dataset_df.columns:\n",
    "    if col == \"SMILES\":\n",
    "        continue\n",
    "    dataset_df[col] = dataset_df[col].fillna(0)\n",
    "dataset_df.head()"
   ]
  },
  {
   "cell_type": "code",
   "execution_count": 6,
   "metadata": {},
   "outputs": [
    {
     "name": "stdout",
     "output_type": "stream",
     "text": [
      "データ数: 198655\n"
     ]
    }
   ],
   "source": [
    "print(\"データ数: {}\".format(len(dataset_df)))"
   ]
  },
  {
   "cell_type": "code",
   "execution_count": 7,
   "metadata": {},
   "outputs": [],
   "source": [
    "def get_morgan_fingerprint(smile, radius=2, bits=1024):\n",
    "    mol_ = Chem.MolFromSmiles(smile)\n",
    "    bit_morgan_ = {}\n",
    "    if mol_ == None:\n",
    "        return [0] * bits\n",
    "    else:\n",
    "        fp = AllChem.GetMorganFingerprintAsBitVect(mol_, radius=radius, nBits=bits, bitInfo=bit_morgan_)\n",
    "    return np.array(fp)"
   ]
  },
  {
   "cell_type": "code",
   "execution_count": 8,
   "metadata": {},
   "outputs": [
    {
     "name": "stdout",
     "output_type": "stream",
     "text": [
      "CPU times: user 2min 15s, sys: 736 ms, total: 2min 16s\n",
      "Wall time: 2min 17s\n"
     ]
    },
    {
     "data": {
      "text/html": [
       "<div>\n",
       "<style scoped>\n",
       "    .dataframe tbody tr th:only-of-type {\n",
       "        vertical-align: middle;\n",
       "    }\n",
       "\n",
       "    .dataframe tbody tr th {\n",
       "        vertical-align: top;\n",
       "    }\n",
       "\n",
       "    .dataframe thead th {\n",
       "        text-align: right;\n",
       "    }\n",
       "</style>\n",
       "<table border=\"1\" class=\"dataframe\">\n",
       "  <thead>\n",
       "    <tr style=\"text-align: right;\">\n",
       "      <th></th>\n",
       "      <th>SMILES</th>\n",
       "      <th>λmax</th>\n",
       "      <th>MaxEStateIndex</th>\n",
       "      <th>MinEStateIndex</th>\n",
       "      <th>MaxAbsEStateIndex</th>\n",
       "      <th>MinAbsEStateIndex</th>\n",
       "      <th>qed</th>\n",
       "      <th>MolWt</th>\n",
       "      <th>HeavyAtomMolWt</th>\n",
       "      <th>ExactMolWt</th>\n",
       "      <th>...</th>\n",
       "      <th>fr_sulfonamd</th>\n",
       "      <th>fr_sulfone</th>\n",
       "      <th>fr_term_acetylene</th>\n",
       "      <th>fr_tetrazole</th>\n",
       "      <th>fr_thiazole</th>\n",
       "      <th>fr_thiocyan</th>\n",
       "      <th>fr_thiophene</th>\n",
       "      <th>fr_unbrch_alkane</th>\n",
       "      <th>fr_urea</th>\n",
       "      <th>morgan_fingerprint</th>\n",
       "    </tr>\n",
       "  </thead>\n",
       "  <tbody>\n",
       "    <tr>\n",
       "      <th>0</th>\n",
       "      <td>c1cc2c(cn1)CCc1c[nH]nc1-2</td>\n",
       "      <td>263.321241</td>\n",
       "      <td>4.245324</td>\n",
       "      <td>1.073935</td>\n",
       "      <td>4.245324</td>\n",
       "      <td>1.073935</td>\n",
       "      <td>0.653297</td>\n",
       "      <td>171.203</td>\n",
       "      <td>162.131</td>\n",
       "      <td>171.079647</td>\n",
       "      <td>...</td>\n",
       "      <td>0.0</td>\n",
       "      <td>0.0</td>\n",
       "      <td>0.0</td>\n",
       "      <td>0.0</td>\n",
       "      <td>0.0</td>\n",
       "      <td>0.0</td>\n",
       "      <td>0.0</td>\n",
       "      <td>0.0</td>\n",
       "      <td>0.0</td>\n",
       "      <td>[0, 0, 0, 0, 0, 0, 0, 0, 0, 0, 0, 0, 0, 0, 0, ...</td>\n",
       "    </tr>\n",
       "    <tr>\n",
       "      <th>1</th>\n",
       "      <td>CONC(=O)c1n[nH]c2c1CCc1n[nH]cc1-2</td>\n",
       "      <td>243.668931</td>\n",
       "      <td>11.685965</td>\n",
       "      <td>-0.336162</td>\n",
       "      <td>11.685965</td>\n",
       "      <td>0.336162</td>\n",
       "      <td>0.645013</td>\n",
       "      <td>233.231</td>\n",
       "      <td>222.143</td>\n",
       "      <td>233.091275</td>\n",
       "      <td>...</td>\n",
       "      <td>0.0</td>\n",
       "      <td>0.0</td>\n",
       "      <td>0.0</td>\n",
       "      <td>0.0</td>\n",
       "      <td>0.0</td>\n",
       "      <td>0.0</td>\n",
       "      <td>0.0</td>\n",
       "      <td>0.0</td>\n",
       "      <td>0.0</td>\n",
       "      <td>[0, 0, 0, 0, 0, 0, 0, 0, 0, 0, 0, 0, 0, 0, 0, ...</td>\n",
       "    </tr>\n",
       "    <tr>\n",
       "      <th>2</th>\n",
       "      <td>O=C(O)c1[nH]nc2c1CCc1cnccc1-2</td>\n",
       "      <td>221.607321</td>\n",
       "      <td>10.962397</td>\n",
       "      <td>-0.952541</td>\n",
       "      <td>10.962397</td>\n",
       "      <td>0.205984</td>\n",
       "      <td>0.750319</td>\n",
       "      <td>215.212</td>\n",
       "      <td>206.140</td>\n",
       "      <td>215.069477</td>\n",
       "      <td>...</td>\n",
       "      <td>0.0</td>\n",
       "      <td>0.0</td>\n",
       "      <td>0.0</td>\n",
       "      <td>0.0</td>\n",
       "      <td>0.0</td>\n",
       "      <td>0.0</td>\n",
       "      <td>0.0</td>\n",
       "      <td>0.0</td>\n",
       "      <td>0.0</td>\n",
       "      <td>[0, 0, 0, 0, 0, 0, 0, 0, 0, 0, 0, 0, 0, 0, 0, ...</td>\n",
       "    </tr>\n",
       "    <tr>\n",
       "      <th>3</th>\n",
       "      <td>OCc1[nH]nc2c1CCc1cnccc1-2</td>\n",
       "      <td>221.009049</td>\n",
       "      <td>9.146874</td>\n",
       "      <td>0.030506</td>\n",
       "      <td>9.146874</td>\n",
       "      <td>0.030506</td>\n",
       "      <td>0.724880</td>\n",
       "      <td>201.229</td>\n",
       "      <td>190.141</td>\n",
       "      <td>201.090212</td>\n",
       "      <td>...</td>\n",
       "      <td>0.0</td>\n",
       "      <td>0.0</td>\n",
       "      <td>0.0</td>\n",
       "      <td>0.0</td>\n",
       "      <td>0.0</td>\n",
       "      <td>0.0</td>\n",
       "      <td>0.0</td>\n",
       "      <td>0.0</td>\n",
       "      <td>0.0</td>\n",
       "      <td>[0, 0, 0, 0, 0, 0, 0, 0, 0, 0, 0, 0, 0, 0, 0, ...</td>\n",
       "    </tr>\n",
       "    <tr>\n",
       "      <th>4</th>\n",
       "      <td>O=C1C=CC2=C3NNC(C(=O)O)=C3CC2=C1</td>\n",
       "      <td>468.999688</td>\n",
       "      <td>11.186579</td>\n",
       "      <td>-0.992914</td>\n",
       "      <td>11.186579</td>\n",
       "      <td>0.051150</td>\n",
       "      <td>0.581430</td>\n",
       "      <td>216.196</td>\n",
       "      <td>208.132</td>\n",
       "      <td>216.053492</td>\n",
       "      <td>...</td>\n",
       "      <td>0.0</td>\n",
       "      <td>0.0</td>\n",
       "      <td>0.0</td>\n",
       "      <td>0.0</td>\n",
       "      <td>0.0</td>\n",
       "      <td>0.0</td>\n",
       "      <td>0.0</td>\n",
       "      <td>0.0</td>\n",
       "      <td>0.0</td>\n",
       "      <td>[0, 0, 0, 0, 0, 0, 0, 0, 0, 0, 0, 0, 0, 0, 0, ...</td>\n",
       "    </tr>\n",
       "  </tbody>\n",
       "</table>\n",
       "<p>5 rows × 211 columns</p>\n",
       "</div>"
      ],
      "text/plain": [
       "                              SMILES        λmax  MaxEStateIndex  \\\n",
       "0          c1cc2c(cn1)CCc1c[nH]nc1-2  263.321241        4.245324   \n",
       "1  CONC(=O)c1n[nH]c2c1CCc1n[nH]cc1-2  243.668931       11.685965   \n",
       "2      O=C(O)c1[nH]nc2c1CCc1cnccc1-2  221.607321       10.962397   \n",
       "3          OCc1[nH]nc2c1CCc1cnccc1-2  221.009049        9.146874   \n",
       "4   O=C1C=CC2=C3NNC(C(=O)O)=C3CC2=C1  468.999688       11.186579   \n",
       "\n",
       "   MinEStateIndex  MaxAbsEStateIndex  MinAbsEStateIndex       qed    MolWt  \\\n",
       "0        1.073935           4.245324           1.073935  0.653297  171.203   \n",
       "1       -0.336162          11.685965           0.336162  0.645013  233.231   \n",
       "2       -0.952541          10.962397           0.205984  0.750319  215.212   \n",
       "3        0.030506           9.146874           0.030506  0.724880  201.229   \n",
       "4       -0.992914          11.186579           0.051150  0.581430  216.196   \n",
       "\n",
       "   HeavyAtomMolWt  ExactMolWt  ...  fr_sulfonamd  fr_sulfone  \\\n",
       "0         162.131  171.079647  ...           0.0         0.0   \n",
       "1         222.143  233.091275  ...           0.0         0.0   \n",
       "2         206.140  215.069477  ...           0.0         0.0   \n",
       "3         190.141  201.090212  ...           0.0         0.0   \n",
       "4         208.132  216.053492  ...           0.0         0.0   \n",
       "\n",
       "   fr_term_acetylene  fr_tetrazole  fr_thiazole  fr_thiocyan  fr_thiophene  \\\n",
       "0                0.0           0.0          0.0          0.0           0.0   \n",
       "1                0.0           0.0          0.0          0.0           0.0   \n",
       "2                0.0           0.0          0.0          0.0           0.0   \n",
       "3                0.0           0.0          0.0          0.0           0.0   \n",
       "4                0.0           0.0          0.0          0.0           0.0   \n",
       "\n",
       "   fr_unbrch_alkane  fr_urea  \\\n",
       "0               0.0      0.0   \n",
       "1               0.0      0.0   \n",
       "2               0.0      0.0   \n",
       "3               0.0      0.0   \n",
       "4               0.0      0.0   \n",
       "\n",
       "                                  morgan_fingerprint  \n",
       "0  [0, 0, 0, 0, 0, 0, 0, 0, 0, 0, 0, 0, 0, 0, 0, ...  \n",
       "1  [0, 0, 0, 0, 0, 0, 0, 0, 0, 0, 0, 0, 0, 0, 0, ...  \n",
       "2  [0, 0, 0, 0, 0, 0, 0, 0, 0, 0, 0, 0, 0, 0, 0, ...  \n",
       "3  [0, 0, 0, 0, 0, 0, 0, 0, 0, 0, 0, 0, 0, 0, 0, ...  \n",
       "4  [0, 0, 0, 0, 0, 0, 0, 0, 0, 0, 0, 0, 0, 0, 0, ...  \n",
       "\n",
       "[5 rows x 211 columns]"
      ]
     },
     "execution_count": 8,
     "metadata": {},
     "output_type": "execute_result"
    }
   ],
   "source": [
    "%%time\n",
    "# 5min\n",
    "dataset_df[\"morgan_fingerprint\"] = dataset_df[\"SMILES\"].map(get_morgan_fingerprint)\n",
    "dataset_df.head()"
   ]
  },
  {
   "cell_type": "code",
   "execution_count": 9,
   "metadata": {},
   "outputs": [],
   "source": [
    "import torch\n",
    "from torch import nn\n",
    "import torch.nn.functional as F\n",
    "\n",
    "from skorch import NeuralNetRegressor\n",
    "from skorch.callbacks import Callback, Checkpoint, EarlyStopping\n",
    "from skorch.dataset import CVSplit"
   ]
  },
  {
   "cell_type": "code",
   "execution_count": 22,
   "metadata": {},
   "outputs": [],
   "source": [
    "class Net(nn.Module):\n",
    "    def __init__(self, input=1232):\n",
    "        super(Net, self).__init__()\n",
    "        self.layer1 = nn.Linear(input, 128)\n",
    "        self.layer2 = nn.Linear(128, 128, bias=True)\n",
    "        self.layer3 = nn.Linear(128, 1, bias=True)\n",
    " \n",
    "    def forward(self, x):\n",
    "        x = x.float()\n",
    "        x = F.relu(self.layer1(x))\n",
    "        x = F.relu(self.layer2(x))\n",
    "        x = F.relu(self.layer3(x))\n",
    "        return x"
   ]
  },
  {
   "cell_type": "code",
   "execution_count": 11,
   "metadata": {},
   "outputs": [],
   "source": [
    "# データセットの定義と分割\n",
    "X = np.array(dataset_df[\"morgan_fingerprint\"].values.tolist())\n",
    "X_rest = dataset_df.drop(['SMILES','λmax',\"morgan_fingerprint\"], axis=1).values\n",
    "X = np.hstack([X, X_rest])\n",
    "y = dataset_df[\"λmax\"].values\n",
    "y = y.reshape([-1,1])"
   ]
  },
  {
   "cell_type": "code",
   "execution_count": 12,
   "metadata": {},
   "outputs": [],
   "source": [
    "X = X.astype(np.float32)\n",
    "y = y.astype(np.float32)\n"
   ]
  },
  {
   "cell_type": "code",
   "execution_count": 81,
   "metadata": {},
   "outputs": [],
   "source": [
    "X_train, X_test, y_train, y_test = train_test_split(X, y)"
   ]
  },
  {
   "cell_type": "code",
   "execution_count": 82,
   "metadata": {},
   "outputs": [],
   "source": [
    "y_train_mean, y_train_std = np.mean(y_train), np.std(y_train)\n",
    "y_train_max = np.max(y_train)\n",
    "# y_train = y_train / y_train_mean"
   ]
  },
  {
   "cell_type": "code",
   "execution_count": 83,
   "metadata": {},
   "outputs": [
    {
     "data": {
      "image/png": "[encoded data removed]",
      "text/plain": [
       "<Figure size 432x288 with 1 Axes>"
      ]
     },
     "metadata": {
      "needs_background": "light"
     },
     "output_type": "display_data"
    }
   ],
   "source": [
    "plt.hist(y_train,bins=100)\n",
    "plt.show()"
   ]
  },
  {
   "cell_type": "code",
   "execution_count": 92,
   "metadata": {},
   "outputs": [
    {
     "name": "stdout",
     "output_type": "stream",
     "text": [
      "  epoch    train_loss    valid_loss    cp     dur\n",
      "-------  ------------  ------------  ----  ------\n",
      "      1     \u001b[36m1255.4646\u001b[0m      \u001b[32m482.7145\u001b[0m     +  4.5254\n",
      "      2      \u001b[36m445.0025\u001b[0m      \u001b[32m419.3628\u001b[0m     +  4.4167\n",
      "      3      \u001b[36m415.0681\u001b[0m      441.4755        4.6426\n",
      "      4      \u001b[36m402.5466\u001b[0m      \u001b[32m403.2054\u001b[0m     +  4.6161\n",
      "      5      \u001b[36m396.3514\u001b[0m      \u001b[32m380.1195\u001b[0m     +  4.4980\n",
      "      6      \u001b[36m378.6754\u001b[0m      399.0137        4.4928\n",
      "      7      \u001b[36m376.0438\u001b[0m      \u001b[32m371.3446\u001b[0m     +  4.4988\n",
      "      8      \u001b[36m370.0670\u001b[0m      396.2997        4.5068\n",
      "      9      \u001b[36m360.8203\u001b[0m      \u001b[32m359.5469\u001b[0m     +  4.5037\n",
      "     10      362.8975      387.6584        4.5582\n",
      "     11      \u001b[36m356.1367\u001b[0m      401.4922        4.5912\n",
      "     12      \u001b[36m348.5860\u001b[0m      558.0836        4.5050\n",
      "     13      350.0126      364.7980        4.5193\n",
      "     14      \u001b[36m342.8887\u001b[0m      \u001b[32m348.6159\u001b[0m     +  4.5547\n",
      "     15      \u001b[36m341.4767\u001b[0m      363.6391        4.5095\n",
      "     16      \u001b[36m336.3722\u001b[0m      439.0293        4.4798\n",
      "     17      \u001b[36m326.4641\u001b[0m      389.8760        4.5342\n",
      "     18      332.8033      360.9336        4.4830\n",
      "     19      334.2058      \u001b[32m343.5678\u001b[0m     +  4.5125\n",
      "     20      \u001b[36m321.4804\u001b[0m      345.1071        4.6177\n",
      "     21      \u001b[36m319.9594\u001b[0m      \u001b[32m331.7014\u001b[0m     +  4.5820\n",
      "     22      326.5275      338.5444        4.4941\n",
      "     23      \u001b[36m313.6151\u001b[0m      381.5670        4.3815\n",
      "     24      316.5188      375.5836        4.4316\n",
      "     25      314.3705      335.2462        4.4618\n",
      "Stopping since valid_loss has not improved in the last 5 epochs.\n",
      "Train Mean Squared Error: 324.0626220703125\n",
      "Test Mean Squared Error: 329.65185546875\n",
      "CPU times: user 2min 38s, sys: 1min 12s, total: 3min 51s\n",
      "Wall time: 2min\n"
     ]
    }
   ],
   "source": [
    "%%time\n",
    "# 10min\n",
    "\n",
    "\n",
    "monitor = lambda Net: all(Net.history[-1, ('train_loss_best', 'valid_loss_best')])\n",
    "\n",
    "# set param(make trainer)\n",
    "model = NeuralNetRegressor(\n",
    "                    Net,\n",
    "                    max_epochs=100,\n",
    "                    lr=0.001,\n",
    "                    warm_start=True,\n",
    "                    optimizer=torch.optim.Adam,\n",
    "                    # optimizer=torch.optim.SGD,\n",
    "                    # optimizer__momentum=0.9,\n",
    "                    optimizer__weight_decay=0.001,\n",
    "                    iterator_train__shuffle=True,\n",
    "                    callbacks=[Checkpoint(), EarlyStopping()],\n",
    "                    # train_split=CVSplit(cv=10, stratified=True, random_state=0)\n",
    "                    device=\"cuda\",\n",
    "                    \n",
    "                )\n",
    "\n",
    "# learn\n",
    "model.fit(X_train, y_train)\n",
    "\n",
    "# predict\n",
    "pred_test = model.predict(X_test)\n",
    "pred_train = model.predict(X_train)\n",
    "# print(y_test-y_pred) # 真値と予測値の差分\n",
    " \n",
    "# print precision, recall, f1-score, support\n",
    "# print(classification_report(y_test, y_pred))\n",
    "# print(\"score:\", accuracy_score(y_test, y_pred))\n",
    "\n",
    "print(f\"Train Mean Squared Error: {mse(y_train, pred_train)}\")\n",
    "print(f\"Test Mean Squared Error: {mse(y_test, pred_test)}\")"
   ]
  },
  {
   "cell_type": "code",
   "execution_count": 93,
   "metadata": {},
   "outputs": [
    {
     "data": {
      "image/png": "[encoded data removed]",
      "text/plain": [
       "<Figure size 432x288 with 1 Axes>"
      ]
     },
     "metadata": {
      "needs_background": "light"
     },
     "output_type": "display_data"
    }
   ],
   "source": [
    "plt.hist([pred_train.reshape(-1), y_train.reshape(-1)], bins=30, label=['pred', 'label'])\n",
    "plt.legend(loc='upper left')\n",
    "plt.grid()\n",
    "plt.show()"
   ]
  },
  {
   "cell_type": "code",
   "execution_count": 94,
   "metadata": {},
   "outputs": [
    {
     "data": {
      "image/png": "[encoded data removed]",
      "text/plain": [
       "<Figure size 432x288 with 1 Axes>"
      ]
     },
     "metadata": {
      "needs_background": "light"
     },
     "output_type": "display_data"
    }
   ],
   "source": [
    "plt.hist([pred_test.reshape(-1), y_test.reshape(-1)], bins=30, label=['pred', 'label'])\n",
    "plt.legend(loc='upper left')\n",
    "plt.grid()\n",
    "plt.show()"
   ]
  },
  {
   "cell_type": "code",
   "execution_count": null,
   "metadata": {},
   "outputs": [],
   "source": [
    "model_file = \"../src/model.pkl\"\n",
    "with open(model_file, 'wb') as f:\n",
    "        pickle.dump(model.to(\"cpu\").state_dict(), f)\n",
    " \n",
    "# load model\n",
    "with open(model_file, mode='rb') as f:\n",
    "       best_model = pickle.load(f)"
   ]
  },
  {
   "cell_type": "code",
   "execution_count": null,
   "metadata": {},
   "outputs": [],
   "source": []
  }
 ],
 "metadata": {
  "kernelspec": {
   "display_name": "Python 3.7.3 ('compound')",
   "language": "python",
   "name": "python3"
  },
  "language_info": {
   "codemirror_mode": {
    "name": "ipython",
    "version": 3
   },
   "file_extension": ".py",
   "mimetype": "text/x-python",
   "name": "python",
   "nbconvert_exporter": "python",
   "pygments_lexer": "ipython3",
   "version": "3.7.3"
  },
  "orig_nbformat": 4,
  "vscode": {
   "interpreter": {
    "hash": "8d396b96c37022cc03b590fb7e0f59e9625b1a542a0cf65b03ce3992dff67545"
   }
  }
 },
 "nbformat": 4,
 "nbformat_minor": 2
}
