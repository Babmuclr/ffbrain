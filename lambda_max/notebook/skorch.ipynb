{
 "cells": [
  {
   "cell_type": "markdown",
   "metadata": {},
   "source": [
    "# 基本的な操作の確認と予測\n",
    "操作の確認と、各種ベースラインとなる予測手法を動かしてみる。手を動かすことを目的とする。\n",
    "##　結果\n",
    "- 芳香環の有無や個数が最大吸収波長に高い相関を持つ　→ ベンゼン環の構造を学習させる方法が有用である可能性\n",
    "- モルガンフィンガープリントに、次元削減はあまり役に立たなそうである\n",
    "- ニューラルネットワークの学習を過学習などを起こさずに行うのが先決そう"
   ]
  },
  {
   "cell_type": "code",
   "execution_count": 1,
   "metadata": {},
   "outputs": [],
   "source": [
    "import sys\n",
    "import os\n",
    "import pickle\n",
    "import pandas as pd\n",
    "import numpy as np\n",
    "import matplotlib.pyplot as plt\n",
    "import japanize_matplotlib"
   ]
  },
  {
   "cell_type": "code",
   "execution_count": 2,
   "metadata": {},
   "outputs": [
    {
     "data": {
      "text/plain": [
       "'1.0.2'"
      ]
     },
     "execution_count": 2,
     "metadata": {},
     "output_type": "execute_result"
    }
   ],
   "source": [
    "import  sklearn\n",
    "sklearn.__version__"
   ]
  },
  {
   "cell_type": "code",
   "execution_count": 3,
   "metadata": {},
   "outputs": [],
   "source": [
    "from rdkit import Chem\n",
    "from rdkit.Chem import AllChem"
   ]
  },
  {
   "cell_type": "code",
   "execution_count": 4,
   "metadata": {},
   "outputs": [],
   "source": [
    "from sklearn.linear_model import Ridge, LinearRegression\n",
    "from sklearn.ensemble import RandomForestRegressor\n",
    "from sklearn.metrics import mean_squared_error as mse\n",
    "from sklearn.model_selection import train_test_split\n",
    "from sklearn.decomposition import PCA\n",
    "from sklearn.neural_network import MLPRegressor\n",
    "\n",
    "import lightgbm as lgb"
   ]
  },
  {
   "cell_type": "code",
   "execution_count": 5,
   "metadata": {},
   "outputs": [
    {
     "data": {
      "text/html": [
       "<div>\n",
       "<style scoped>\n",
       "    .dataframe tbody tr th:only-of-type {\n",
       "        vertical-align: middle;\n",
       "    }\n",
       "\n",
       "    .dataframe tbody tr th {\n",
       "        vertical-align: top;\n",
       "    }\n",
       "\n",
       "    .dataframe thead th {\n",
       "        text-align: right;\n",
       "    }\n",
       "</style>\n",
       "<table border=\"1\" class=\"dataframe\">\n",
       "  <thead>\n",
       "    <tr style=\"text-align: right;\">\n",
       "      <th></th>\n",
       "      <th>SMILES</th>\n",
       "      <th>λmax</th>\n",
       "      <th>MaxEStateIndex</th>\n",
       "      <th>MinEStateIndex</th>\n",
       "      <th>MaxAbsEStateIndex</th>\n",
       "      <th>MinAbsEStateIndex</th>\n",
       "      <th>qed</th>\n",
       "      <th>MolWt</th>\n",
       "      <th>HeavyAtomMolWt</th>\n",
       "      <th>ExactMolWt</th>\n",
       "      <th>...</th>\n",
       "      <th>fr_sulfide</th>\n",
       "      <th>fr_sulfonamd</th>\n",
       "      <th>fr_sulfone</th>\n",
       "      <th>fr_term_acetylene</th>\n",
       "      <th>fr_tetrazole</th>\n",
       "      <th>fr_thiazole</th>\n",
       "      <th>fr_thiocyan</th>\n",
       "      <th>fr_thiophene</th>\n",
       "      <th>fr_unbrch_alkane</th>\n",
       "      <th>fr_urea</th>\n",
       "    </tr>\n",
       "  </thead>\n",
       "  <tbody>\n",
       "    <tr>\n",
       "      <th>0</th>\n",
       "      <td>c1cc2c(cn1)CCc1c[nH]nc1-2</td>\n",
       "      <td>263.321241</td>\n",
       "      <td>4.245324</td>\n",
       "      <td>1.073935</td>\n",
       "      <td>4.245324</td>\n",
       "      <td>1.073935</td>\n",
       "      <td>0.653297</td>\n",
       "      <td>171.203</td>\n",
       "      <td>162.131</td>\n",
       "      <td>171.079647</td>\n",
       "      <td>...</td>\n",
       "      <td>0.0</td>\n",
       "      <td>0.0</td>\n",
       "      <td>0.0</td>\n",
       "      <td>0.0</td>\n",
       "      <td>0.0</td>\n",
       "      <td>0.0</td>\n",
       "      <td>0.0</td>\n",
       "      <td>0.0</td>\n",
       "      <td>0.0</td>\n",
       "      <td>0.0</td>\n",
       "    </tr>\n",
       "    <tr>\n",
       "      <th>1</th>\n",
       "      <td>CONC(=O)c1n[nH]c2c1CCc1n[nH]cc1-2</td>\n",
       "      <td>243.668931</td>\n",
       "      <td>11.685965</td>\n",
       "      <td>-0.336162</td>\n",
       "      <td>11.685965</td>\n",
       "      <td>0.336162</td>\n",
       "      <td>0.645013</td>\n",
       "      <td>233.231</td>\n",
       "      <td>222.143</td>\n",
       "      <td>233.091275</td>\n",
       "      <td>...</td>\n",
       "      <td>0.0</td>\n",
       "      <td>0.0</td>\n",
       "      <td>0.0</td>\n",
       "      <td>0.0</td>\n",
       "      <td>0.0</td>\n",
       "      <td>0.0</td>\n",
       "      <td>0.0</td>\n",
       "      <td>0.0</td>\n",
       "      <td>0.0</td>\n",
       "      <td>0.0</td>\n",
       "    </tr>\n",
       "    <tr>\n",
       "      <th>2</th>\n",
       "      <td>O=C(O)c1[nH]nc2c1CCc1cnccc1-2</td>\n",
       "      <td>221.607321</td>\n",
       "      <td>10.962397</td>\n",
       "      <td>-0.952541</td>\n",
       "      <td>10.962397</td>\n",
       "      <td>0.205984</td>\n",
       "      <td>0.750319</td>\n",
       "      <td>215.212</td>\n",
       "      <td>206.140</td>\n",
       "      <td>215.069477</td>\n",
       "      <td>...</td>\n",
       "      <td>0.0</td>\n",
       "      <td>0.0</td>\n",
       "      <td>0.0</td>\n",
       "      <td>0.0</td>\n",
       "      <td>0.0</td>\n",
       "      <td>0.0</td>\n",
       "      <td>0.0</td>\n",
       "      <td>0.0</td>\n",
       "      <td>0.0</td>\n",
       "      <td>0.0</td>\n",
       "    </tr>\n",
       "    <tr>\n",
       "      <th>3</th>\n",
       "      <td>OCc1[nH]nc2c1CCc1cnccc1-2</td>\n",
       "      <td>221.009049</td>\n",
       "      <td>9.146874</td>\n",
       "      <td>0.030506</td>\n",
       "      <td>9.146874</td>\n",
       "      <td>0.030506</td>\n",
       "      <td>0.724880</td>\n",
       "      <td>201.229</td>\n",
       "      <td>190.141</td>\n",
       "      <td>201.090212</td>\n",
       "      <td>...</td>\n",
       "      <td>0.0</td>\n",
       "      <td>0.0</td>\n",
       "      <td>0.0</td>\n",
       "      <td>0.0</td>\n",
       "      <td>0.0</td>\n",
       "      <td>0.0</td>\n",
       "      <td>0.0</td>\n",
       "      <td>0.0</td>\n",
       "      <td>0.0</td>\n",
       "      <td>0.0</td>\n",
       "    </tr>\n",
       "    <tr>\n",
       "      <th>4</th>\n",
       "      <td>O=C1C=CC2=C3NNC(C(=O)O)=C3CC2=C1</td>\n",
       "      <td>468.999688</td>\n",
       "      <td>11.186579</td>\n",
       "      <td>-0.992914</td>\n",
       "      <td>11.186579</td>\n",
       "      <td>0.051150</td>\n",
       "      <td>0.581430</td>\n",
       "      <td>216.196</td>\n",
       "      <td>208.132</td>\n",
       "      <td>216.053492</td>\n",
       "      <td>...</td>\n",
       "      <td>0.0</td>\n",
       "      <td>0.0</td>\n",
       "      <td>0.0</td>\n",
       "      <td>0.0</td>\n",
       "      <td>0.0</td>\n",
       "      <td>0.0</td>\n",
       "      <td>0.0</td>\n",
       "      <td>0.0</td>\n",
       "      <td>0.0</td>\n",
       "      <td>0.0</td>\n",
       "    </tr>\n",
       "  </tbody>\n",
       "</table>\n",
       "<p>5 rows × 210 columns</p>\n",
       "</div>"
      ],
      "text/plain": [
       "                              SMILES        λmax  MaxEStateIndex  \\\n",
       "0          c1cc2c(cn1)CCc1c[nH]nc1-2  263.321241        4.245324   \n",
       "1  CONC(=O)c1n[nH]c2c1CCc1n[nH]cc1-2  243.668931       11.685965   \n",
       "2      O=C(O)c1[nH]nc2c1CCc1cnccc1-2  221.607321       10.962397   \n",
       "3          OCc1[nH]nc2c1CCc1cnccc1-2  221.009049        9.146874   \n",
       "4   O=C1C=CC2=C3NNC(C(=O)O)=C3CC2=C1  468.999688       11.186579   \n",
       "\n",
       "   MinEStateIndex  MaxAbsEStateIndex  MinAbsEStateIndex       qed    MolWt  \\\n",
       "0        1.073935           4.245324           1.073935  0.653297  171.203   \n",
       "1       -0.336162          11.685965           0.336162  0.645013  233.231   \n",
       "2       -0.952541          10.962397           0.205984  0.750319  215.212   \n",
       "3        0.030506           9.146874           0.030506  0.724880  201.229   \n",
       "4       -0.992914          11.186579           0.051150  0.581430  216.196   \n",
       "\n",
       "   HeavyAtomMolWt  ExactMolWt  ...  fr_sulfide  fr_sulfonamd  fr_sulfone  \\\n",
       "0         162.131  171.079647  ...         0.0           0.0         0.0   \n",
       "1         222.143  233.091275  ...         0.0           0.0         0.0   \n",
       "2         206.140  215.069477  ...         0.0           0.0         0.0   \n",
       "3         190.141  201.090212  ...         0.0           0.0         0.0   \n",
       "4         208.132  216.053492  ...         0.0           0.0         0.0   \n",
       "\n",
       "   fr_term_acetylene  fr_tetrazole  fr_thiazole  fr_thiocyan  fr_thiophene  \\\n",
       "0                0.0           0.0          0.0          0.0           0.0   \n",
       "1                0.0           0.0          0.0          0.0           0.0   \n",
       "2                0.0           0.0          0.0          0.0           0.0   \n",
       "3                0.0           0.0          0.0          0.0           0.0   \n",
       "4                0.0           0.0          0.0          0.0           0.0   \n",
       "\n",
       "   fr_unbrch_alkane  fr_urea  \n",
       "0               0.0      0.0  \n",
       "1               0.0      0.0  \n",
       "2               0.0      0.0  \n",
       "3               0.0      0.0  \n",
       "4               0.0      0.0  \n",
       "\n",
       "[5 rows x 210 columns]"
      ]
     },
     "execution_count": 5,
     "metadata": {},
     "output_type": "execute_result"
    }
   ],
   "source": [
    "dataset_df = pd.read_csv(\"../datasets/dataset.csv\")\n",
    "for col in dataset_df.columns:\n",
    "    if col == \"SMILES\":\n",
    "        continue\n",
    "    dataset_df[col] = dataset_df[col].fillna(0)\n",
    "dataset_df.head()"
   ]
  },
  {
   "cell_type": "code",
   "execution_count": 6,
   "metadata": {},
   "outputs": [
    {
     "name": "stdout",
     "output_type": "stream",
     "text": [
      "データ数: 198655\n"
     ]
    }
   ],
   "source": [
    "print(\"データ数: {}\".format(len(dataset_df)))"
   ]
  },
  {
   "cell_type": "code",
   "execution_count": 7,
   "metadata": {},
   "outputs": [
    {
     "data": {
      "text/plain": [
       "Index(['SMILES', 'λmax', 'MaxEStateIndex', 'MinEStateIndex',\n",
       "       'MaxAbsEStateIndex', 'MinAbsEStateIndex', 'qed', 'MolWt',\n",
       "       'HeavyAtomMolWt', 'ExactMolWt',\n",
       "       ...\n",
       "       'fr_sulfide', 'fr_sulfonamd', 'fr_sulfone', 'fr_term_acetylene',\n",
       "       'fr_tetrazole', 'fr_thiazole', 'fr_thiocyan', 'fr_thiophene',\n",
       "       'fr_unbrch_alkane', 'fr_urea'],\n",
       "      dtype='object', length=210)"
      ]
     },
     "execution_count": 7,
     "metadata": {},
     "output_type": "execute_result"
    }
   ],
   "source": [
    "dataset_df.keys()"
   ]
  },
  {
   "cell_type": "code",
   "execution_count": 8,
   "metadata": {},
   "outputs": [],
   "source": [
    "df_corr = dataset_df.corr()\n",
    "df_corr = df_corr.fillna(0)\n",
    "lambda_max, idx = df_corr[\"λmax\"].to_numpy(), df_corr.index.to_numpy()"
   ]
  },
  {
   "cell_type": "code",
   "execution_count": 9,
   "metadata": {},
   "outputs": [
    {
     "name": "stdout",
     "output_type": "stream",
     "text": [
      "1番相関の高い要素: λmax, 相関係数: 1.0\n",
      "2番相関の高い要素: BertzCT, 相関係数: 0.493\n",
      "3番相関の高い要素: NumAromaticRings, 相関係数: 0.445\n",
      "4番相関の高い要素: SMR_VSA7, 相関係数: 0.429\n",
      "5番相関の高い要素: SlogP_VSA6, 相関係数: 0.424\n",
      "6番相関の高い要素: fr_aniline, 相関係数: 0.351\n",
      "7番相関の高い要素: RingCount, 相関係数: 0.35\n",
      "8番相関の高い要素: HeavyAtomMolWt, 相関係数: 0.335\n",
      "9番相関の高い要素: VSA_EState6, 相関係数: 0.32\n",
      "10番相関の高い要素: Chi1, 相関係数: 0.31\n",
      "11番相関の高い要素: SMR_VSA10, 相関係数: 0.298\n",
      "12番相関の高い要素: HeavyAtomCount, 相関係数: 0.291\n",
      "13番相関の高い要素: NumAromaticHeterocycles, 相関係数: 0.286\n",
      "14番相関の高い要素: SlogP_VSA8, 相関係数: 0.28\n",
      "15番相関の高い要素: MolWt, 相関係数: 0.28\n",
      "16番相関の高い要素: ExactMolWt, 相関係数: 0.28\n",
      "17番相関の高い要素: fr_benzene, 相関係数: 0.275\n",
      "18番相関の高い要素: NumAromaticCarbocycles, 相関係数: 0.275\n",
      "19番相関の高い要素: SlogP_VSA10, 相関係数: 0.274\n",
      "20番相関の高い要素: LabuteASA, 相関係数: 0.269\n"
     ]
    }
   ],
   "source": [
    "for num, i in enumerate(lambda_max.argsort()[::-1][:20]):\n",
    "    print(\"{}番相関の高い要素: {}, 相関係数: {}\".format(num+1, idx[i], round(lambda_max[i],3)))"
   ]
  },
  {
   "cell_type": "code",
   "execution_count": 10,
   "metadata": {},
   "outputs": [
    {
     "name": "stdout",
     "output_type": "stream",
     "text": [
      "1番相関の低い要素: FractionCSP3, 相関係数: -0.482\n",
      "2番相関の低い要素: HallKierAlpha, 相関係数: -0.384\n",
      "3番相関の低い要素: SMR_VSA5, 相関係数: -0.298\n",
      "4番相関の低い要素: SlogP_VSA5, 相関係数: -0.233\n",
      "5番相関の低い要素: NumRotatableBonds, 相関係数: -0.221\n",
      "6番相関の低い要素: SlogP_VSA2, 相関係数: -0.2\n",
      "7番相関の低い要素: BalabanJ, 相関係数: -0.19\n",
      "8番相関の低い要素: Kappa2, 相関係数: -0.171\n",
      "9番相関の低い要素: VSA_EState8, 相関係数: -0.155\n",
      "10番相関の低い要素: BCUT2D_CHGHI, 相関係数: -0.141\n",
      "11番相関の低い要素: Kappa3, 相関係数: -0.13\n",
      "12番相関の低い要素: NumSaturatedRings, 相関係数: -0.127\n",
      "13番相関の低い要素: NumSaturatedCarbocycles, 相関係数: -0.125\n",
      "14番相関の低い要素: SMR_VSA4, 相関係数: -0.122\n",
      "15番相関の低い要素: SMR_VSA1, 相関係数: -0.12\n",
      "16番相関の低い要素: fr_unbrch_alkane, 相関係数: -0.115\n",
      "17番相関の低い要素: NumAliphaticCarbocycles, 相関係数: -0.111\n",
      "18番相関の低い要素: SlogP_VSA3, 相関係数: -0.107\n",
      "19番相関の低い要素: fr_Al_OH, 相関係数: -0.1\n",
      "20番相関の低い要素: fr_Al_COO, 相関係数: -0.099\n"
     ]
    }
   ],
   "source": [
    "for num, i in enumerate(lambda_max.argsort()[:20]):\n",
    "    print(\"{}番相関の低い要素: {}, 相関係数: {}\".format(num+1, idx[i], round(lambda_max[i],3)))"
   ]
  },
  {
   "cell_type": "code",
   "execution_count": 11,
   "metadata": {},
   "outputs": [],
   "source": [
    "def get_morgan_fingerprint(smile, radius=2, bits=1024):\n",
    "    mol_ = Chem.MolFromSmiles(smile)\n",
    "    bit_morgan_ = {}\n",
    "    if mol_ == None:\n",
    "        return [0] * bits\n",
    "    else:\n",
    "        fp = AllChem.GetMorganFingerprintAsBitVect(mol_, radius=radius, nBits=bits, bitInfo=bit_morgan_)\n",
    "    return np.array(fp)"
   ]
  },
  {
   "cell_type": "code",
   "execution_count": 14,
   "metadata": {},
   "outputs": [],
   "source": [
    "%%time\n",
    "# 5min\n",
    "dataset_df[\"morgan_fingerprint\"] = dataset_df[\"SMILES\"].map(get_morgan_fingerprint)\n",
    "dataset_df.head()"
   ]
  },
  {
   "cell_type": "code",
   "execution_count": null,
   "metadata": {},
   "outputs": [
    {
     "ename": "KeyError",
     "evalue": "'morgan_fingerprint'",
     "output_type": "error",
     "traceback": [
      "\u001b[0;31m---------------------------------------------------------------------------\u001b[0m",
      "\u001b[0;31mKeyError\u001b[0m                                  Traceback (most recent call last)",
      "File \u001b[0;32m~/opt/anaconda3/envs/ml/lib/python3.8/site-packages/pandas/core/indexes/base.py:3621\u001b[0m, in \u001b[0;36mIndex.get_loc\u001b[0;34m(self, key, method, tolerance)\u001b[0m\n\u001b[1;32m   3620\u001b[0m \u001b[39mtry\u001b[39;00m:\n\u001b[0;32m-> 3621\u001b[0m     \u001b[39mreturn\u001b[39;00m \u001b[39mself\u001b[39;49m\u001b[39m.\u001b[39;49m_engine\u001b[39m.\u001b[39;49mget_loc(casted_key)\n\u001b[1;32m   3622\u001b[0m \u001b[39mexcept\u001b[39;00m \u001b[39mKeyError\u001b[39;00m \u001b[39mas\u001b[39;00m err:\n",
      "File \u001b[0;32m~/opt/anaconda3/envs/ml/lib/python3.8/site-packages/pandas/_libs/index.pyx:136\u001b[0m, in \u001b[0;36mpandas._libs.index.IndexEngine.get_loc\u001b[0;34m()\u001b[0m\n",
      "File \u001b[0;32m~/opt/anaconda3/envs/ml/lib/python3.8/site-packages/pandas/_libs/index.pyx:163\u001b[0m, in \u001b[0;36mpandas._libs.index.IndexEngine.get_loc\u001b[0;34m()\u001b[0m\n",
      "File \u001b[0;32mpandas/_libs/hashtable_class_helper.pxi:5198\u001b[0m, in \u001b[0;36mpandas._libs.hashtable.PyObjectHashTable.get_item\u001b[0;34m()\u001b[0m\n",
      "File \u001b[0;32mpandas/_libs/hashtable_class_helper.pxi:5206\u001b[0m, in \u001b[0;36mpandas._libs.hashtable.PyObjectHashTable.get_item\u001b[0;34m()\u001b[0m\n",
      "\u001b[0;31mKeyError\u001b[0m: 'morgan_fingerprint'",
      "\nThe above exception was the direct cause of the following exception:\n",
      "\u001b[0;31mKeyError\u001b[0m                                  Traceback (most recent call last)",
      "File \u001b[0;32m<timed exec>:7\u001b[0m, in \u001b[0;36m<module>\u001b[0;34m\u001b[0m\n",
      "File \u001b[0;32m~/opt/anaconda3/envs/ml/lib/python3.8/site-packages/pandas/core/frame.py:3505\u001b[0m, in \u001b[0;36mDataFrame.__getitem__\u001b[0;34m(self, key)\u001b[0m\n\u001b[1;32m   3503\u001b[0m \u001b[39mif\u001b[39;00m \u001b[39mself\u001b[39m\u001b[39m.\u001b[39mcolumns\u001b[39m.\u001b[39mnlevels \u001b[39m>\u001b[39m \u001b[39m1\u001b[39m:\n\u001b[1;32m   3504\u001b[0m     \u001b[39mreturn\u001b[39;00m \u001b[39mself\u001b[39m\u001b[39m.\u001b[39m_getitem_multilevel(key)\n\u001b[0;32m-> 3505\u001b[0m indexer \u001b[39m=\u001b[39m \u001b[39mself\u001b[39;49m\u001b[39m.\u001b[39;49mcolumns\u001b[39m.\u001b[39;49mget_loc(key)\n\u001b[1;32m   3506\u001b[0m \u001b[39mif\u001b[39;00m is_integer(indexer):\n\u001b[1;32m   3507\u001b[0m     indexer \u001b[39m=\u001b[39m [indexer]\n",
      "File \u001b[0;32m~/opt/anaconda3/envs/ml/lib/python3.8/site-packages/pandas/core/indexes/base.py:3623\u001b[0m, in \u001b[0;36mIndex.get_loc\u001b[0;34m(self, key, method, tolerance)\u001b[0m\n\u001b[1;32m   3621\u001b[0m     \u001b[39mreturn\u001b[39;00m \u001b[39mself\u001b[39m\u001b[39m.\u001b[39m_engine\u001b[39m.\u001b[39mget_loc(casted_key)\n\u001b[1;32m   3622\u001b[0m \u001b[39mexcept\u001b[39;00m \u001b[39mKeyError\u001b[39;00m \u001b[39mas\u001b[39;00m err:\n\u001b[0;32m-> 3623\u001b[0m     \u001b[39mraise\u001b[39;00m \u001b[39mKeyError\u001b[39;00m(key) \u001b[39mfrom\u001b[39;00m \u001b[39merr\u001b[39;00m\n\u001b[1;32m   3624\u001b[0m \u001b[39mexcept\u001b[39;00m \u001b[39mTypeError\u001b[39;00m:\n\u001b[1;32m   3625\u001b[0m     \u001b[39m# If we have a listlike key, _check_indexing_error will raise\u001b[39;00m\n\u001b[1;32m   3626\u001b[0m     \u001b[39m#  InvalidIndexError. Otherwise we fall through and re-raise\u001b[39;00m\n\u001b[1;32m   3627\u001b[0m     \u001b[39m#  the TypeError.\u001b[39;00m\n\u001b[1;32m   3628\u001b[0m     \u001b[39mself\u001b[39m\u001b[39m.\u001b[39m_check_indexing_error(key)\n",
      "\u001b[0;31mKeyError\u001b[0m: 'morgan_fingerprint'"
     ]
    }
   ],
   "source": [
    "%%time\n",
    "# 10min\n",
    "title = \"(モルガンフィンガープリント+構造子)+ニューラルネットワーク\"\n",
    "x_label = \"予測値\"\n",
    "y_label = \"実測値\"\n",
    "\n",
    "# データセットの定義と分割\n",
    "X = np.array(dataset_df[\"morgan_fingerprint\"].values.tolist())\n",
    "X_rest = dataset_df.drop(['SMILES','λmax',\"morgan_fingerprint\"], axis=1).values\n",
    "X = np.hstack([X, X_rest])\n",
    "y = dataset_df[\"λmax\"].values\n",
    "X_train, X_test, y_train, y_test = train_test_split(X, y)\n",
    "\n",
    "# 次元削減\n",
    "# reducer = PCA(n_components=20)\n",
    "# reducer.fit(X_train, y_train)\n",
    "# X_train, X_test = reducer.transform(X_train), reducer.transform(X_test)\n",
    "\n",
    "# 回帰モデル\n",
    "model = MLPRegressor(hidden_layer_sizes=(100,100,))\n",
    "model.fit(X_train, y_train)\n",
    "\n",
    "# 予測\n",
    "pred_train = model.predict(X_train)\n",
    "pred_test = model.predict(X_test)\n",
    "\n",
    "fig, ax = plt.subplots(figsize=(8,6))\n",
    "ax.scatter(pred_test, y_test)\n",
    "ax.set_xlabel(x_label)\n",
    "ax.set_ylabel(y_label)\n",
    "ax.set_title(title)\n",
    "\n",
    "print(f\"Train Mean Squared Error: {mse(y_train, pred_train)}\")\n",
    "print(f\"Test Mean Squared Error: {mse(y_test, pred_test)}\")"
   ]
  },
  {
   "cell_type": "code",
   "execution_count": 24,
   "metadata": {},
   "outputs": [
    {
     "name": "stderr",
     "output_type": "stream",
     "text": [
      "/Users/takumiinui/opt/anaconda3/envs/ml/lib/python3.8/site-packages/sklearn/neural_network/_multilayer_perceptron.py:692: ConvergenceWarning: Stochastic Optimizer: Maximum iterations (200) reached and the optimization hasn't converged yet.\n",
      "  warnings.warn(\n"
     ]
    },
    {
     "name": "stdout",
     "output_type": "stream",
     "text": [
      "Train Mean Squared Error: 42.639590551882186\n",
      "Test Mean Squared Error: 429.7552884973771\n"
     ]
    },
    {
     "name": "stderr",
     "output_type": "stream",
     "text": [
      "/var/folders/r9/7lg15w31511bybkl0clk2yr40000gn/T/ipykernel_34037/437412198.py:28: UserWarning: Matplotlib is currently using module://matplotlib_inline.backend_inline, which is a non-GUI backend, so cannot show the figure.\n",
      "  fig.show()\n"
     ]
    },
    {
     "data": {
      "image/png": "[encoded data removed]",
      "text/plain": [
       "<Figure size 576x432 with 1 Axes>"
      ]
     },
     "metadata": {
      "needs_background": "light"
     },
     "output_type": "display_data"
    }
   ],
   "source": [
    "title = \"モルガンフィンガープリント+ニューラルネットワーク\"\n",
    "x_label = \"予測値\"\n",
    "y_label = \"実測値\"\n",
    "\n",
    "# データセットの定義と分割\n",
    "X = dataset_df[\"morgan_fingerprint\"].values.tolist()\n",
    "y = dataset_df[\"λmax\"].values\n",
    "X_train, X_test, y_train, y_test = train_test_split(X, y)\n",
    "\n",
    "# 次元削減\n",
    "# reducer = PCA(n_components=20)\n",
    "# reducer.fit(X_train, y_train)\n",
    "# X_train, X_test = reducer.transform(X_train), reducer.transform(X_test)\n",
    "\n",
    "# 回帰モデル\n",
    "model = MLPRegressor(hidden_layer_sizes=(100,100,))\n",
    "model.fit(X_train, y_train)\n",
    "\n",
    "# 予測\n",
    "pred_train = model.predict(X_train)\n",
    "pred_test = model.predict(X_test)\n",
    "\n",
    "fig, ax = plt.subplots(figsize=(8,6))\n",
    "ax.scatter(pred_test, y_test)\n",
    "ax.set_xlabel(x_label)\n",
    "ax.set_ylabel(y_label)\n",
    "ax.set_title(title)\n",
    "\n",
    "print(f\"Train Mean Squared Error: {mse(y_train, pred_train)}\")\n",
    "print(f\"Test Mean Squared Error: {mse(y_test, pred_test)}\")"
   ]
  },
  {
   "cell_type": "code",
   "execution_count": null,
   "metadata": {},
   "outputs": [],
   "source": []
  }
 ],
 "metadata": {
  "kernelspec": {
   "display_name": "Python 3.8.13 ('ml')",
   "language": "python",
   "name": "python3"
  },
  "language_info": {
   "codemirror_mode": {
    "name": "ipython",
    "version": 3
   },
   "file_extension": ".py",
   "mimetype": "text/x-python",
   "name": "python",
   "nbconvert_exporter": "python",
   "pygments_lexer": "ipython3",
   "version": "3.8.13"
  },
  "orig_nbformat": 4,
  "vscode": {
   "interpreter": {
    "hash": "851d07177606990ec442741bec478679bcbb27f61f253a04bc069fae7e26fdfd"
   }
  }
 },
 "nbformat": 4,
 "nbformat_minor": 2
}
